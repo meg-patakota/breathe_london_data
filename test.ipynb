{
 "cells": [
  {
   "cell_type": "code",
   "execution_count": null,
   "metadata": {},
   "outputs": [],
   "source": [
    "from breathe_london_api import main\n",
    "\n",
    "df, site_codes, output_file = main(api_key=\"YOUR_API_KEY\", output_file=\"my_output.csv\", site_code_limit=10)\n",
    "\n",
    "if df is not None:\n",
    "    # Use the DataFrame for further processing\n",
    "    print(df.head())\n",
    "\n",
    "if site_codes:\n",
    "    # Use the site codes as input for another endpoint\n",
    "    print(f\"First site code: {site_codes[0]}\")\n",
    "\n",
    "print(f\"Data saved to: {output_file}\")"
   ]
  }
 ],
 "metadata": {
  "language_info": {
   "name": "python"
  }
 },
 "nbformat": 4,
 "nbformat_minor": 2
}

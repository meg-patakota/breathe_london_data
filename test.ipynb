{
 "cells": [
  {
   "cell_type": "code",
   "execution_count": 1,
   "metadata": {},
   "outputs": [
    {
     "name": "stderr",
     "output_type": "stream",
     "text": [
      "2024-09-03 21:41:05,191 - INFO - Starting main process\n",
      "Starting main process\n",
      "2024-09-03 21:41:05,192 - INFO - Using provided API key\n",
      "Using provided API key\n",
      "2024-09-03 21:41:05,192 - INFO - Initiating API request to fetch sensor data\n",
      "Initiating API request to fetch sensor data\n",
      "2024-09-03 21:41:05,193 - INFO - Attempt 1 to fetch data\n",
      "Attempt 1 to fetch data\n",
      "2024-09-03 21:41:15,333 - WARNING - Request timed out. Retrying... (Elapsed time: 10.14s)\n",
      "Request timed out. Retrying... (Elapsed time: 10.14s)\n",
      "2024-09-03 21:41:16,344 - INFO - Attempt 2 to fetch data\n",
      "Attempt 2 to fetch data\n",
      "2024-09-03 21:41:26,551 - WARNING - Request timed out. Retrying... (Elapsed time: 21.36s)\n",
      "Request timed out. Retrying... (Elapsed time: 21.36s)\n",
      "2024-09-03 21:41:27,560 - INFO - Attempt 3 to fetch data\n",
      "Attempt 3 to fetch data\n",
      "2024-09-03 21:41:40,787 - ERROR - API request timed out after 30 seconds\n",
      "API request timed out after 30 seconds\n",
      "2024-09-03 21:41:40,793 - ERROR - Your BreatheLondon API Limit exceeded\n",
      "Your BreatheLondon API Limit exceeded\n",
      "2024-09-03 21:41:40,795 - ERROR - Failed to fetch data. Please check your API key and try again later.\n",
      "Failed to fetch data. Please check your API key and try again later.\n"
     ]
    }
   ],
   "source": [
    "from breathe_london_api_list_sensors import main, logger\n",
    "import os\n",
    "import logging\n",
    "\n",
    "logging.getLogger().addHandler(logging.StreamHandler())\n",
    "from dotenv import load_dotenv\n",
    "\n",
    "load_dotenv()\n",
    "\n",
    "df, site_codes, output_file = main(\n",
    "    api_key=os.getenv(\"API_KEY\"), output_file=\"my_output.csv\", site_code_limit=10\n",
    ")\n",
    "\n",
    "if df is None:\n",
    "    logger.error(\"Failed to fetch data. Please check your API key and try again later.\")\n",
    "else:\n",
    "    logger.info(f\"Data saved to: {output_file}\")\n",
    "    logger.info(f\"First few site codes: {site_codes[:5]}\")"
   ]
  }
 ],
 "metadata": {
  "kernelspec": {
   "display_name": "breathe-london-api-qeieqM5a-py3.12",
   "language": "python",
   "name": "python3"
  },
  "language_info": {
   "codemirror_mode": {
    "name": "ipython",
    "version": 3
   },
   "file_extension": ".py",
   "mimetype": "text/x-python",
   "name": "python",
   "nbconvert_exporter": "python",
   "pygments_lexer": "ipython3",
   "version": "3.12.5"
  }
 },
 "nbformat": 4,
 "nbformat_minor": 2
}

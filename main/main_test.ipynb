{
 "cells": [
  {
   "cell_type": "markdown",
   "metadata": {},
   "source": [
    "# Test to get \"/ListSensors\" data"
   ]
  },
  {
   "cell_type": "code",
   "execution_count": 1,
   "metadata": {},
   "outputs": [
    {
     "name": "stderr",
     "output_type": "stream",
     "text": [
      "2024-09-05 17:05:49,617 - INFO - Starting main process\n",
      "Starting main process\n",
      "2024-09-05 17:05:49,618 - INFO - Using provided API key\n",
      "Using provided API key\n",
      "2024-09-05 17:05:49,618 - INFO - Initiating API request to fetch sensor data\n",
      "Initiating API request to fetch sensor data\n",
      "2024-09-05 17:05:49,619 - INFO - Attempt 1 to fetch data\n",
      "Attempt 1 to fetch data\n",
      "2024-09-05 17:05:55,943 - INFO - Data fetched successfully\n",
      "Data fetched successfully\n",
      "2024-09-05 17:05:55,967 - INFO - Processing fetched sensor data\n",
      "Processing fetched sensor data\n",
      "2024-09-05 17:05:55,986 - INFO - Processed data into DataFrame with 591 rows and 54 columns\n",
      "Processed data into DataFrame with 591 rows and 54 columns\n",
      "2024-09-05 17:05:55,986 - INFO - Saving data to my_output.csv\n",
      "Saving data to my_output.csv\n",
      "2024-09-05 17:05:56,014 - INFO - Full dataset saved to my_output.csv\n",
      "Full dataset saved to my_output.csv\n",
      "2024-09-05 17:05:56,015 - INFO - Extracting site codes from DataFrame\n",
      "Extracting site codes from DataFrame\n",
      "2024-09-05 17:05:56,017 - INFO - Limiting site codes to 10\n",
      "Limiting site codes to 10\n",
      "2024-09-05 17:05:56,018 - INFO - Sample Site Codes (limit 10): ['CLDP0001', 'CLDP0002', 'CLDP0003', 'CLDP0004', 'CLDP0005', 'CLDP0006', 'CLDP0007', 'CLDP0008', 'CLDP0009', 'CLDP0010']\n",
      "Sample Site Codes (limit 10): ['CLDP0001', 'CLDP0002', 'CLDP0003', 'CLDP0004', 'CLDP0005', 'CLDP0006', 'CLDP0007', 'CLDP0008', 'CLDP0009', 'CLDP0010']\n",
      "2024-09-05 17:05:56,019 - INFO - Data saved to: my_output.csv\n",
      "Data saved to: my_output.csv\n",
      "2024-09-05 17:05:56,019 - INFO - First few site codes: ['CLDP0001', 'CLDP0002', 'CLDP0003', 'CLDP0004', 'CLDP0005']\n",
      "First few site codes: ['CLDP0001', 'CLDP0002', 'CLDP0003', 'CLDP0004', 'CLDP0005']\n"
     ]
    }
   ],
   "source": [
    "from breathe_london_api_list_sensors import main, logger\n",
    "import os\n",
    "import logging\n",
    "from dotenv import load_dotenv\n",
    "\n",
    "logging.getLogger().addHandler(logging.StreamHandler())\n",
    "\n",
    "load_dotenv()\n",
    "\n",
    "df, site_codes, output_file = main(\n",
    "    api_key=os.getenv(\"API_KEY\"), output_file=\"my_output.csv\", site_code_limit=10\n",
    ")\n",
    "\n",
    "if df is None:\n",
    "    logger.error(\"Failed to fetch data. Please check your API key and try again later.\")\n",
    "else:\n",
    "    logger.info(f\"Data saved to: {output_file}\")\n",
    "    logger.info(f\"First few site codes: {site_codes[:5]}\")"
   ]
  },
  {
   "cell_type": "markdown",
   "metadata": {},
   "source": [
    "# Test to hourly \"/getClarityData\" data"
   ]
  },
  {
   "cell_type": "code",
   "execution_count": 2,
   "metadata": {},
   "outputs": [
    {
     "name": "stderr",
     "output_type": "stream",
     "text": [
      "2024-09-05 17:12:16,419 - INFO - Fetching data for CLDP0001 and IPM25\n",
      "2024-09-05 17:12:16,576 - INFO - Successfully received data for CLDP0001 and IPM25\n",
      "2024-09-05 17:12:16,591 - INFO - Fetching data for CLDP0001 and IPM25\n",
      "2024-09-05 17:12:16,714 - INFO - Successfully received data for CLDP0001 and IPM25\n",
      "2024-09-05 17:12:16,733 - INFO - Fetching data for CLDP0001 and INO2\n"
     ]
    },
    {
     "name": "stdout",
     "output_type": "stream",
     "text": [
      "   SiteCode                  DateTime  DurationNS  ScaledValue\n",
      "0  CLDP0001  2024-08-29T16:00:00.000Z  3600000000     5.670406\n",
      "1  CLDP0001  2024-08-29T17:00:00.000Z  3600000000     5.093165\n",
      "2  CLDP0001  2024-08-29T18:00:00.000Z  3600000000     6.839030\n",
      "3  CLDP0001  2024-08-29T19:00:00.000Z  3600000000     7.673105\n",
      "4  CLDP0001  2024-08-29T20:00:00.000Z  3600000000     9.347195\n"
     ]
    },
    {
     "name": "stderr",
     "output_type": "stream",
     "text": [
      "2024-09-05 17:12:16,848 - INFO - Successfully received data for CLDP0001 and INO2\n",
      "2024-09-05 17:12:16,859 - INFO - Fetching data for CLDP0002 and IPM25\n",
      "2024-09-05 17:12:16,967 - INFO - Successfully received data for CLDP0002 and IPM25\n",
      "2024-09-05 17:12:16,969 - INFO - Fetching data for CLDP0002 and INO2\n",
      "2024-09-05 17:12:17,084 - INFO - Successfully received data for CLDP0002 and INO2\n",
      "2024-09-05 17:12:17,091 - INFO - Total data shape: (2878, 6)\n",
      "2024-09-05 17:12:17,092 - INFO - Latest data timestamp: 2024-09-05 16:00:00+00:00\n",
      "2024-09-05 17:12:17,093 - INFO - Number of unique sites: 2\n",
      "2024-09-05 17:12:17,116 - INFO - Data saved to clarity_data_2024-09-05-17-12-17.csv\n"
     ]
    },
    {
     "name": "stdout",
     "output_type": "stream",
     "text": [
      "   SiteCode                  DateTime  DurationNS  ScaledValue  \\\n",
      "0  CLDP0001 2024-08-06 16:00:00+00:00  3600000000     5.533521   \n",
      "1  CLDP0001 2024-08-06 17:00:00+00:00  3600000000     4.882308   \n",
      "2  CLDP0001 2024-08-06 18:00:00+00:00  3600000000     4.422661   \n",
      "3  CLDP0001 2024-08-06 19:00:00+00:00  3600000000     4.156055   \n",
      "4  CLDP0001 2024-08-06 20:00:00+00:00  3600000000     4.999571   \n",
      "\n",
      "               mod_datetime species  \n",
      "0 2024-08-06 17:00:00+00:00   IPM25  \n",
      "1 2024-08-06 18:00:00+00:00   IPM25  \n",
      "2 2024-08-06 19:00:00+00:00   IPM25  \n",
      "3 2024-08-06 20:00:00+00:00   IPM25  \n",
      "4 2024-08-06 21:00:00+00:00   IPM25  \n",
      "Total data shape: (2878, 6)\n",
      "Latest data timestamp: 2024-09-05 16:00:00+00:00\n",
      "Number of unique sites: 2\n"
     ]
    }
   ],
   "source": [
    "# Import the necessary functions and variables from your script\n",
    "from breathe_london_api_clarity_data import main, get_clarity_data, API_KEY\n",
    "from datetime import datetime, timedelta\n",
    "\n",
    "# Test the get_clarity_data function\n",
    "siteCode = \"CLDP0001\"\n",
    "species = \"IPM25\"\n",
    "endTime = datetime.now()\n",
    "startTime = endTime - timedelta(days=7)\n",
    "endTime_str = endTime.strftime(\"%a %d %b %Y %H:%M:%S\")\n",
    "startTime_str = startTime.strftime(\"%a %d %b %Y %H:%M:%S\")\n",
    "averaging = \"Hourly\"\n",
    "\n",
    "data = get_clarity_data(siteCode, species, startTime_str, endTime_str, averaging)\n",
    "if data is not None:\n",
    "    print(data.head())\n",
    "else:\n",
    "    print(\"No data received\")\n",
    "\n",
    "# Test the main function\n",
    "siteCodes = [\"CLDP0001\", \"CLDP0002\"]\n",
    "species_list = [\"IPM25\", \"INO2\"]\n",
    "days = 30\n",
    "\n",
    "df = main(siteCodes, species_list, averaging, days)\n",
    "if df is not None:\n",
    "    print(df.head())\n",
    "    print(f\"Total data shape: {df.shape}\")\n",
    "    print(f\"Latest data timestamp: {df.mod_datetime.max()}\")\n",
    "    print(f\"Number of unique sites: {df.SiteCode.nunique()}\")\n",
    "else:\n",
    "    print(\"No data received\")"
   ]
  }
 ],
 "metadata": {
  "kernelspec": {
   "display_name": "breathe-london-api-qeieqM5a-py3.12",
   "language": "python",
   "name": "python3"
  },
  "language_info": {
   "codemirror_mode": {
    "name": "ipython",
    "version": 3
   },
   "file_extension": ".py",
   "mimetype": "text/x-python",
   "name": "python",
   "nbconvert_exporter": "python",
   "pygments_lexer": "ipython3",
   "version": "3.12.5"
  }
 },
 "nbformat": 4,
 "nbformat_minor": 2
}

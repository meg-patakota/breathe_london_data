{
 "cells": [
  {
   "cell_type": "markdown",
   "metadata": {},
   "source": [
    "# Test to get \"/ListSensors\" data"
   ]
  },
  {
   "cell_type": "code",
   "execution_count": 1,
   "metadata": {},
   "outputs": [
    {
     "name": "stderr",
     "output_type": "stream",
     "text": [
      "2024-09-05 17:05:49,617 - INFO - Starting main process\n",
      "Starting main process\n",
      "2024-09-05 17:05:49,618 - INFO - Using provided API key\n",
      "Using provided API key\n",
      "2024-09-05 17:05:49,618 - INFO - Initiating API request to fetch sensor data\n",
      "Initiating API request to fetch sensor data\n",
      "2024-09-05 17:05:49,619 - INFO - Attempt 1 to fetch data\n",
      "Attempt 1 to fetch data\n",
      "2024-09-05 17:05:55,943 - INFO - Data fetched successfully\n",
      "Data fetched successfully\n",
      "2024-09-05 17:05:55,967 - INFO - Processing fetched sensor data\n",
      "Processing fetched sensor data\n",
      "2024-09-05 17:05:55,986 - INFO - Processed data into DataFrame with 591 rows and 54 columns\n",
      "Processed data into DataFrame with 591 rows and 54 columns\n",
      "2024-09-05 17:05:55,986 - INFO - Saving data to my_output.csv\n",
      "Saving data to my_output.csv\n",
      "2024-09-05 17:05:56,014 - INFO - Full dataset saved to my_output.csv\n",
      "Full dataset saved to my_output.csv\n",
      "2024-09-05 17:05:56,015 - INFO - Extracting site codes from DataFrame\n",
      "Extracting site codes from DataFrame\n",
      "2024-09-05 17:05:56,017 - INFO - Limiting site codes to 10\n",
      "Limiting site codes to 10\n",
      "2024-09-05 17:05:56,018 - INFO - Sample Site Codes (limit 10): ['CLDP0001', 'CLDP0002', 'CLDP0003', 'CLDP0004', 'CLDP0005', 'CLDP0006', 'CLDP0007', 'CLDP0008', 'CLDP0009', 'CLDP0010']\n",
      "Sample Site Codes (limit 10): ['CLDP0001', 'CLDP0002', 'CLDP0003', 'CLDP0004', 'CLDP0005', 'CLDP0006', 'CLDP0007', 'CLDP0008', 'CLDP0009', 'CLDP0010']\n",
      "2024-09-05 17:05:56,019 - INFO - Data saved to: my_output.csv\n",
      "Data saved to: my_output.csv\n",
      "2024-09-05 17:05:56,019 - INFO - First few site codes: ['CLDP0001', 'CLDP0002', 'CLDP0003', 'CLDP0004', 'CLDP0005']\n",
      "First few site codes: ['CLDP0001', 'CLDP0002', 'CLDP0003', 'CLDP0004', 'CLDP0005']\n"
     ]
    }
   ],
   "source": [
    "from breathe_london_api_list_sensors import main, logger\n",
    "import os\n",
    "import logging\n",
    "from dotenv import load_dotenv\n",
    "\n",
    "logging.getLogger().addHandler(logging.StreamHandler())\n",
    "\n",
    "load_dotenv()\n",
    "\n",
    "df, site_codes, output_file = main(\n",
    "    api_key=os.getenv(\"API_KEY\"), output_file=\"my_output.csv\", site_code_limit=10\n",
    ")\n",
    "\n",
    "if df is None:\n",
    "    logger.error(\"Failed to fetch data. Please check your API key and try again later.\")\n",
    "else:\n",
    "    logger.info(f\"Data saved to: {output_file}\")\n",
    "    logger.info(f\"First few site codes: {site_codes[:5]}\")"
   ]
  },
  {
   "cell_type": "markdown",
   "metadata": {},
   "source": [
    "# Test to hourly \"/getClarityData\" data"
   ]
  },
  {
   "cell_type": "code",
   "execution_count": null,
   "metadata": {},
   "outputs": [],
   "source": [
    "from breathe_london_api_clarity_data import main\n",
    "\n",
    "# Test the main function\n",
    "siteCodes = [\"CLDP0001\", \"CLDP0002\"]\n",
    "species_list = [\"IPM25\", \"INO2\"]\n",
    "averaging = \"Hourly\"\n",
    "days = 30\n",
    "output_file = \"my_data.csv\"\n",
    "\n",
    "df = main(siteCodes, species_list, averaging, days, output_file)\n",
    "if df is not None:\n",
    "    print(df.head())\n",
    "    print(f\"Total data shape: {df.shape}\")\n",
    "    print(f\"Latest data timestamp: {df.mod_datetime.max()}\")\n",
    "    print(f\"Number of unique sites: {df.SiteCode.nunique()}\")\n",
    "else:\n",
    "    print(\"No data received\")"
   ]
  }
 ],
 "metadata": {
  "kernelspec": {
   "display_name": "breathe-london-api-qeieqM5a-py3.12",
   "language": "python",
   "name": "python3"
  },
  "language_info": {
   "codemirror_mode": {
    "name": "ipython",
    "version": 3
   },
   "file_extension": ".py",
   "mimetype": "text/x-python",
   "name": "python",
   "nbconvert_exporter": "python",
   "pygments_lexer": "ipython3",
   "version": "3.12.5"
  }
 },
 "nbformat": 4,
 "nbformat_minor": 2
}
